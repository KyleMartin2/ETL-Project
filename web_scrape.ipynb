{
 "cells": [
  {
   "cell_type": "markdown",
   "id": "181d9475",
   "metadata": {},
   "source": [
    "## Imports"
   ]
  },
  {
   "cell_type": "code",
   "execution_count": 1,
   "id": "2986fa2c",
   "metadata": {},
   "outputs": [],
   "source": [
    "import requests\n",
    "from bs4 import BeautifulSoup\n",
    "import lxml\n",
    "import datetime\n",
    "from dateutil.relativedelta import relativedelta\n",
    "import pandas as pd\n",
    "from io import StringIO\n",
    "import time\n",
    "import openpyxl\n",
    "from mortgage import Loan"
   ]
  },
  {
   "cell_type": "markdown",
   "id": "9eb95abc",
   "metadata": {},
   "source": [
    "## Functions"
   ]
  },
  {
   "cell_type": "markdown",
   "id": "dcfdeb6a",
   "metadata": {},
   "source": [
    "Returns a list containing the requested urls."
   ]
  },
  {
   "cell_type": "code",
   "execution_count": 2,
   "id": "d2753027",
   "metadata": {},
   "outputs": [],
   "source": [
    "def list_urls(start, stop, time_delta): #start/stop: YYMM format, time delta: m for monthly & y for yearly\n",
    "    \n",
    "    #create empty list for urls\n",
    "    url_list = []\n",
    "    \n",
    "    #create datetime objs for start/stop\n",
    "    start_date = datetime.date.fromisoformat('20{}-{}-01'.format(start[:2], start[2:]))\n",
    "    stop_date = datetime.date.fromisoformat('20{}-{}-01'.format(stop[:2], stop[2:])) \n",
    "    \n",
    "    #create datetime obj equal to start_date for use in loop\n",
    "    current_date = start_date\n",
    "\n",
    "    #elif loop for each time_delta & while loop for appending to url_list\n",
    "    if time_delta == 'm': #shows only the BP data for each month of the specified time span\n",
    "        while (current_date <= stop_date):\n",
    "            url_list.append(\"https://www2.census.gov/econ/bps/County/co{}c.txt\".format(current_date.strftime(\"%y%m\")))\n",
    "            current_date = current_date + relativedelta(months = +1)\n",
    "    \n",
    "    elif time_delta == 'y': #Cumulative BP data for each respective year from Jan. up to specified starting month.\n",
    "        while (current_date <= stop_date):\n",
    "            url_list.append(\"https://www2.census.gov/econ/bps/County/co{}y.txt\".format(current_date.strftime(\"%y%m\")))\n",
    "            current_date = current_date + relativedelta(years = +1)\n",
    "    \n",
    "    else:\n",
    "        url_list = \"invaild time delta\"\n",
    "    \n",
    "    #return complete url_list\n",
    "    return url_list"
   ]
  },
  {
   "cell_type": "code",
   "execution_count": 3,
   "id": "a85c1b88",
   "metadata": {},
   "outputs": [],
   "source": [
    "url_L1 = list_urls('1612', '2112', 'y')"
   ]
  },
  {
   "cell_type": "markdown",
   "id": "7070f016",
   "metadata": {},
   "source": [
    "Function that creates a single data frame containing all data from each url in the passed url list"
   ]
  },
  {
   "cell_type": "code",
   "execution_count": 4,
   "id": "94de286a",
   "metadata": {},
   "outputs": [],
   "source": [
    "def building_permit_df(url_list):\n",
    "    bp_df = pd.DataFrame()\n",
    "   \n",
    "    keys = ['Survey_Date', 'State_FIPS', 'County_FIPS', 'Region_Code', 'Division_Code', 'County_Name',\n",
    "       '1_unit_Bldgs', '1_unit_Units', '1_unit_Value',\n",
    "        '2_units_Bldgs', '2_units_Units', '2_units_Value',\n",
    "        '3-4_units_Bldgs', '3-4_units_Units', '3-4_units_Value',\n",
    "        '5+_units_Bldgs', '5+_units_Units', '5+_units_Value',\n",
    "        '1_unit_rep_Bldgs', '1_unit_rep_Units', '1_unit_rep_Value',\n",
    "        '2_units_rep_Bldgs', '2_units_rep_Units', '2_units_rep_Value',\n",
    "        '3-4_units_rep_Bldgs', '3-4_units_rep_Units', '3-4_units_rep_Value',\n",
    "        '5+units_rep_Bldgs', '5+units_rep_Units', '5+units_rep_Value']\n",
    "    \n",
    "    for url in url_list:\n",
    "        req = requests.get(url)\n",
    "        soup = BeautifulSoup(req.text, 'lxml')\n",
    "        bp_text = soup.get_text()\n",
    "        bp_textfile = StringIO(bp_text)\n",
    "        bp_data = pd.read_csv(bp_textfile, names = keys, sep=r'\\,|\\t', engine='python', skiprows= 3)\n",
    "        bp_df = pd.concat([bp_df, bp_data], ignore_index=True)\n",
    "                          \n",
    "    return bp_df"
   ]
  },
  {
   "cell_type": "code",
   "execution_count": 5,
   "id": "fe7b60c9",
   "metadata": {},
   "outputs": [],
   "source": [
    "bp_df1 = pd.DataFrame()\n",
    "bp_df1 = building_permit_df(url_L1).copy()"
   ]
  },
  {
   "cell_type": "code",
   "execution_count": 6,
   "id": "0aaa7e03",
   "metadata": {},
   "outputs": [],
   "source": [
    "bp_df1.to_csv('bp1.csv')"
   ]
  },
  {
   "cell_type": "code",
   "execution_count": 7,
   "id": "9579453b",
   "metadata": {},
   "outputs": [],
   "source": [
    "xlsx = pd.ExcelFile('Income.xlsx')\n",
    "\n",
    "in16 = pd.read_excel(xlsx, '2016')\n",
    "in17 = pd.read_excel(xlsx, '2017')\n",
    "in18 = pd.read_excel(xlsx, '2018')\n",
    "in19 = pd.read_excel(xlsx, '2019')\n",
    "in20 = pd.read_excel(xlsx, '2020')\n",
    "in21 = pd.read_excel(xlsx, '2021')\n",
    "\n",
    "in16['Mean Monthly Income'] = in16['Mean Income'] / 12\n",
    "in16['Mean Monthly Income'] = in16['Mean Monthly Income'].astype(int)\n",
    "\n",
    "in17['Mean Monthly Income'] = in17['Mean Income'] / 12\n",
    "in17['Mean Monthly Income'] = in17['Mean Monthly Income'].astype(int)\n",
    "\n",
    "in18['Mean Monthly Income'] = in18['Mean Income'] / 12\n",
    "in18['Mean Monthly Income'] = in18['Mean Monthly Income'].astype(int)\n",
    "\n",
    "in19['Mean Monthly Income'] = in19['Mean Income'] / 12\n",
    "in19['Mean Monthly Income'] = in19['Mean Monthly Income'].astype(int)\n",
    "\n",
    "in20['Mean Monthly Income'] = in20['Mean Income'] / 12\n",
    "in20['Mean Monthly Income'] = in20['Mean Monthly Income'].astype(int)\n",
    "\n",
    "in21['Mean Monthly Income'] = in21['Mean Income'] / 12\n",
    "in21['Mean Monthly Income'] = in21['Mean Monthly Income'].astype(int)"
   ]
  },
  {
   "cell_type": "code",
   "execution_count": 8,
   "id": "cc94aa8f",
   "metadata": {},
   "outputs": [],
   "source": [
    "bp_df2 = bp_df1[['Survey_Date', 'State_FIPS','County_FIPS','County_Name','1_unit_Units', '1_unit_Value']].copy()\n",
    "bp_df2['Mean_unit_Value'] = bp_df2['1_unit_Value'] / bp_df2['1_unit_Units']\n",
    "bp_df2 = bp_df2.dropna()\n",
    "bp_df2['Survey_Date'] = bp_df2['Survey_Date'].astype(str).str[:-2].astype(int)\n",
    "pd.set_option('display.max_rows', None)"
   ]
  },
  {
   "cell_type": "code",
   "execution_count": 9,
   "id": "080865ea",
   "metadata": {},
   "outputs": [],
   "source": [
    "#mortgage calculation\n",
    "\n",
    "mortgage_principal = bp_df2['Mean_unit_Value']*0.8\n",
    "\n",
    "monthly_mortgage = []\n",
    "\n",
    "for value in mortgage_principal:\n",
    "    monthly_mortgage.append(int(Loan(principal= value, interest=.0375, term=30).monthly_payment))\n",
    "\n",
    "bp_df2['Monthly_Mortgage']= monthly_mortgage"
   ]
  },
  {
   "cell_type": "code",
   "execution_count": 10,
   "id": "03287759",
   "metadata": {},
   "outputs": [],
   "source": [
    "#adding year and state fips numbers to income dataframes\n",
    "in16['Year'] = 2016\n",
    "in17['Year'] = 2017\n",
    "in18['Year'] = 2018\n",
    "in19['Year'] = 2019\n",
    "in20['Year'] = 2020\n",
    "in21['Year'] = 2021\n",
    "\n",
    "inYear = pd.concat([in16, in17, in18, in19, in20, in21], axis=0, ignore_index= True)"
   ]
  },
  {
   "cell_type": "code",
   "execution_count": 11,
   "id": "4e21a973",
   "metadata": {},
   "outputs": [],
   "source": [
    "fips = pd.read_csv(\"fips.csv\")\n",
    "fips = fips.rename(columns={' st': 'st'})\n",
    "fips_tup = list(zip(fips.stname, fips.st))"
   ]
  },
  {
   "cell_type": "code",
   "execution_count": 12,
   "id": "cf365a6a",
   "metadata": {},
   "outputs": [],
   "source": [
    "fipsnum = []\n",
    "for state in inYear['State']:\n",
    "    for tup in fips_tup:\n",
    "        if state == tup[0]:\n",
    "            fipsnum.append(tup[1])\n",
    "\n",
    "inYear['State FIPS'] = fipsnum"
   ]
  },
  {
   "cell_type": "code",
   "execution_count": 20,
   "id": "39a47f0b",
   "metadata": {},
   "outputs": [
    {
     "ename": "ValueError",
     "evalue": "Can only compare identically-labeled Series objects",
     "output_type": "error",
     "traceback": [
      "\u001b[1;31m---------------------------------------------------------------------------\u001b[0m",
      "\u001b[1;31mValueError\u001b[0m                                Traceback (most recent call last)",
      "Input \u001b[1;32mIn [20]\u001b[0m, in \u001b[0;36m<cell line: 2>\u001b[1;34m()\u001b[0m\n\u001b[0;32m      1\u001b[0m monthly_income \u001b[38;5;241m=\u001b[39m []\n\u001b[1;32m----> 2\u001b[0m \u001b[38;5;28;01mif\u001b[39;00m \u001b[43mbp_df2\u001b[49m\u001b[43m[\u001b[49m\u001b[38;5;124;43m'\u001b[39;49m\u001b[38;5;124;43mState_FIPS\u001b[39;49m\u001b[38;5;124;43m'\u001b[39;49m\u001b[43m]\u001b[49m\u001b[43m \u001b[49m\u001b[38;5;241;43m==\u001b[39;49m\u001b[43m \u001b[49m\u001b[43minYear\u001b[49m\u001b[43m[\u001b[49m\u001b[38;5;124;43m'\u001b[39;49m\u001b[38;5;124;43mState FIPS\u001b[39;49m\u001b[38;5;124;43m'\u001b[39;49m\u001b[43m]\u001b[49m \u001b[38;5;129;01mand\u001b[39;00m bp_df2[\u001b[38;5;124m'\u001b[39m\u001b[38;5;124mSurvey_Date\u001b[39m\u001b[38;5;124m'\u001b[39m] \u001b[38;5;241m==\u001b[39m inYear[\u001b[38;5;124m'\u001b[39m\u001b[38;5;124mYear\u001b[39m\u001b[38;5;124m'\u001b[39m]:\n\u001b[0;32m      3\u001b[0m     monthly_income\u001b[38;5;241m.\u001b[39mappend(inYear[\u001b[38;5;124m'\u001b[39m\u001b[38;5;124mMean Monthly Income\u001b[39m\u001b[38;5;124m'\u001b[39m])\n\u001b[0;32m      4\u001b[0m monthly_income\n",
      "File \u001b[1;32m~\\anaconda3\\envs\\web_scrape\\lib\\site-packages\\pandas\\core\\ops\\common.py:70\u001b[0m, in \u001b[0;36m_unpack_zerodim_and_defer.<locals>.new_method\u001b[1;34m(self, other)\u001b[0m\n\u001b[0;32m     66\u001b[0m             \u001b[38;5;28;01mreturn\u001b[39;00m \u001b[38;5;28mNotImplemented\u001b[39m\n\u001b[0;32m     68\u001b[0m other \u001b[38;5;241m=\u001b[39m item_from_zerodim(other)\n\u001b[1;32m---> 70\u001b[0m \u001b[38;5;28;01mreturn\u001b[39;00m \u001b[43mmethod\u001b[49m\u001b[43m(\u001b[49m\u001b[38;5;28;43mself\u001b[39;49m\u001b[43m,\u001b[49m\u001b[43m \u001b[49m\u001b[43mother\u001b[49m\u001b[43m)\u001b[49m\n",
      "File \u001b[1;32m~\\anaconda3\\envs\\web_scrape\\lib\\site-packages\\pandas\\core\\arraylike.py:40\u001b[0m, in \u001b[0;36mOpsMixin.__eq__\u001b[1;34m(self, other)\u001b[0m\n\u001b[0;32m     38\u001b[0m \u001b[38;5;129m@unpack_zerodim_and_defer\u001b[39m(\u001b[38;5;124m\"\u001b[39m\u001b[38;5;124m__eq__\u001b[39m\u001b[38;5;124m\"\u001b[39m)\n\u001b[0;32m     39\u001b[0m \u001b[38;5;28;01mdef\u001b[39;00m \u001b[38;5;21m__eq__\u001b[39m(\u001b[38;5;28mself\u001b[39m, other):\n\u001b[1;32m---> 40\u001b[0m     \u001b[38;5;28;01mreturn\u001b[39;00m \u001b[38;5;28;43mself\u001b[39;49m\u001b[38;5;241;43m.\u001b[39;49m\u001b[43m_cmp_method\u001b[49m\u001b[43m(\u001b[49m\u001b[43mother\u001b[49m\u001b[43m,\u001b[49m\u001b[43m \u001b[49m\u001b[43moperator\u001b[49m\u001b[38;5;241;43m.\u001b[39;49m\u001b[43meq\u001b[49m\u001b[43m)\u001b[49m\n",
      "File \u001b[1;32m~\\anaconda3\\envs\\web_scrape\\lib\\site-packages\\pandas\\core\\series.py:5617\u001b[0m, in \u001b[0;36mSeries._cmp_method\u001b[1;34m(self, other, op)\u001b[0m\n\u001b[0;32m   5614\u001b[0m res_name \u001b[38;5;241m=\u001b[39m ops\u001b[38;5;241m.\u001b[39mget_op_result_name(\u001b[38;5;28mself\u001b[39m, other)\n\u001b[0;32m   5616\u001b[0m \u001b[38;5;28;01mif\u001b[39;00m \u001b[38;5;28misinstance\u001b[39m(other, Series) \u001b[38;5;129;01mand\u001b[39;00m \u001b[38;5;129;01mnot\u001b[39;00m \u001b[38;5;28mself\u001b[39m\u001b[38;5;241m.\u001b[39m_indexed_same(other):\n\u001b[1;32m-> 5617\u001b[0m     \u001b[38;5;28;01mraise\u001b[39;00m \u001b[38;5;167;01mValueError\u001b[39;00m(\u001b[38;5;124m\"\u001b[39m\u001b[38;5;124mCan only compare identically-labeled Series objects\u001b[39m\u001b[38;5;124m\"\u001b[39m)\n\u001b[0;32m   5619\u001b[0m lvalues \u001b[38;5;241m=\u001b[39m \u001b[38;5;28mself\u001b[39m\u001b[38;5;241m.\u001b[39m_values\n\u001b[0;32m   5620\u001b[0m rvalues \u001b[38;5;241m=\u001b[39m extract_array(other, extract_numpy\u001b[38;5;241m=\u001b[39m\u001b[38;5;28;01mTrue\u001b[39;00m, extract_range\u001b[38;5;241m=\u001b[39m\u001b[38;5;28;01mTrue\u001b[39;00m)\n",
      "\u001b[1;31mValueError\u001b[0m: Can only compare identically-labeled Series objects"
     ]
    }
   ],
   "source": [
    "monthly_income = []\n",
    "for index_x, row_x in bp_df2.iterrows():\n",
    "    for index_y, row_y in inYear.iterrows():\n",
    "        if row_x['State_FIPS'] == row_y['State FIPS'] and row_x['Survey_Date'] == row_y['Year']:\n",
    "            monthly_income.append(row_y['Mean Monthly Income'])\n",
    "monthly_income"
   ]
  }
 ],
 "metadata": {
  "kernelspec": {
   "display_name": "web_scrape",
   "language": "python",
   "name": "web_scrape"
  },
  "language_info": {
   "codemirror_mode": {
    "name": "ipython",
    "version": 3
   },
   "file_extension": ".py",
   "mimetype": "text/x-python",
   "name": "python",
   "nbconvert_exporter": "python",
   "pygments_lexer": "ipython3",
   "version": "3.10.4"
  }
 },
 "nbformat": 4,
 "nbformat_minor": 5
}
